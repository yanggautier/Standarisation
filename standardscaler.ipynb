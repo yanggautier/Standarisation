{
  "nbformat": 4,
  "nbformat_minor": 0,
  "metadata": {
    "colab": {
      "name": "analyse.ipynb",
      "provenance": [],
      "collapsed_sections": [],
      "toc_visible": true
    },
    "kernelspec": {
      "name": "python3",
      "display_name": "Python 3"
    }
  },
  "cells": [
    {
      "cell_type": "code",
      "metadata": {
        "id": "Ywr9JxLtl03c",
        "colab_type": "code",
        "colab": {}
      },
      "source": [
        "import pandas as pd\n",
        "import numpy as np\n",
        ""
      ],
      "execution_count": 4,
      "outputs": []
    },
    {
      "cell_type": "markdown",
      "metadata": {
        "id": "HFRpPGbRnPAQ",
        "colab_type": "text"
      },
      "source": [
        "Créer une class StandardScaler2 avec comme méthode fit, transform, fit_transform et en attribut un dicitonnaire params_ qui contient la moyenne et l'écart_type de vos données. \n",
        "Les données en entrées sont uniquement de array numpy (pas des dataframes) me dire que vous avez terminé avant de faire le bonus.\n",
        "en bonus :\n",
        " - mettre une erreur si on essaye de transform sans avoir de fit\n",
        " - permettre au code de fonctionner, peut importe si l'entrée est une numpy array ou une dataframe\n",
        " "
      ]
    },
    {
      "cell_type": "markdown",
      "metadata": {
        "id": "RBu0xqgQrIEx",
        "colab_type": "text"
      },
      "source": [
        "## Ecart type\n",
        "$$\\sigma = \\sqrt{\\frac {1}{N} \\sum_{i=1}^N (x_i - \\bar{x})^2}$$\n"
      ]
    },
    {
      "cell_type": "markdown",
      "metadata": {
        "id": "l_1ubeCUvvFF",
        "colab_type": "text"
      },
      "source": [
        "### Standarisation:\n",
        "$$z_{ij} = \\frac{x_{ij} - \\bar{x}_i}{\\sigma_i}$$\n",
        "\n",
        "avec :\n",
        "\n",
        "  - $x$ la valeur qu’on veut standardiser (input variable)\n",
        "  - $\\bar{x}$ la moyenne (mean) des observations pour cette feature\n",
        "  - $\\sigma$ est l’ecart-type (Standard Deviation) des observations pour cette feature\n"
      ]
    },
    {
      "cell_type": "code",
      "metadata": {
        "id": "F2cO695znGof",
        "colab_type": "code",
        "colab": {}
      },
      "source": [
        "class StandardScaler2():\n",
        "\n",
        "  def __init__ (self, params_={}):\n",
        "    self.params_ = params_\n",
        "\n",
        "  def fit(self, data):\n",
        "    if type(data) == np.ndarray:\n",
        "      self.params_['moyenne'] = [data.mean()]\n",
        "      self.params_['ecart_type'] = [np.std(data-self.params_['moyenne'][0])]\n",
        "      # self.params_['ecart_type'] = sum([(elem - self.params_['moyenne'])**2 for elem in data])/len(data)\n",
        "    \n",
        "    elif type(data) == pd.core.frame.DataFrame:\n",
        "      self.params_['moyenne'] = []\n",
        "      self.params_['ecart_type'] = []\n",
        "\n",
        "      for column in data.columns:\n",
        "        if np.issubdtype(data[column].dtype, np.number):\n",
        "           self.params_['moyenne'].append(data[column].mean())\n",
        "           self.params_['ecart_type'].append(np.std(data[column] - data[column].mean()))\n",
        "        else:\n",
        "           self.params_['moyenne'].append(np.nan)\n",
        "           self.params_['ecart_type'].append(np.nan)\n",
        "\n",
        "    \n",
        "    else:\n",
        "      return\n",
        "  def transform(self,data):\n",
        "    if self.params_:\n",
        "\n",
        "      if type(data) == np.ndarray:\n",
        "        data = [(ele - self.params_['moyenne'][0])/self.params_['ecart_type'][0] for ele in data]\n",
        "        return data\n",
        "\n",
        "      elif type(data) ==  pd.core.frame.DataFrame:\n",
        "        for i in range(len(data.columns)):\n",
        "          if np.issubdtype(data[data.columns[i]].dtype, np.number):\n",
        "            data[data.columns[i]] = (data[data.columns[i]] - self.params_['moyenne'][i])/self.params_['ecart_type'][i]\n",
        "        return data\n",
        "      else:\n",
        "        print(\"La donnée que vous avez entré n'est pas un array ou un DataFrame\")\n",
        "        return\n",
        "    else:\n",
        "      print(\"Vous n'avez pas encore fait le fit(calculer la moyenne et l'écart-type)\")\n",
        "      return\n",
        "\n",
        "  def fit_transform(self,data):\n",
        "    self.fit(self,data).transform(self,data)\n",
        "  "
      ],
      "execution_count": 35,
      "outputs": []
    },
    {
      "cell_type": "code",
      "metadata": {
        "id": "pI7xwzEQxJtG",
        "colab_type": "code",
        "outputId": "559d3e91-9fdc-4733-fbe3-c3d1d38060ad",
        "colab": {
          "base_uri": "https://localhost:8080/",
          "height": 50
        }
      },
      "source": [
        "data = pd.read_csv(\"train.csv\")\n",
        "print(type(data) == pd.core.frame.DataFrame)\n",
        "print(data.shape)"
      ],
      "execution_count": 47,
      "outputs": [
        {
          "output_type": "stream",
          "name": "stdout",
          "text": "True\n(891, 12)\n"
        }
      ]
    },
    {
      "cell_type": "code",
      "execution_count": 48,
      "metadata": {},
      "outputs": [
        {
          "output_type": "execute_result",
          "data": {
            "text/plain": "     PassengerId  Survived  Pclass  \\\n0              1         0       3   \n1              2         1       1   \n2              3         1       3   \n3              4         1       1   \n4              5         0       3   \n..           ...       ...     ...   \n886          887         0       2   \n887          888         1       1   \n888          889         0       3   \n889          890         1       1   \n890          891         0       3   \n\n                                                  Name     Sex   Age  SibSp  \\\n0                              Braund, Mr. Owen Harris    male  22.0      1   \n1    Cumings, Mrs. John Bradley (Florence Briggs Th...  female  38.0      1   \n2                               Heikkinen, Miss. Laina  female  26.0      0   \n3         Futrelle, Mrs. Jacques Heath (Lily May Peel)  female  35.0      1   \n4                             Allen, Mr. William Henry    male  35.0      0   \n..                                                 ...     ...   ...    ...   \n886                              Montvila, Rev. Juozas    male  27.0      0   \n887                       Graham, Miss. Margaret Edith  female  19.0      0   \n888           Johnston, Miss. Catherine Helen \"Carrie\"  female   NaN      1   \n889                              Behr, Mr. Karl Howell    male  26.0      0   \n890                                Dooley, Mr. Patrick    male  32.0      0   \n\n     Parch            Ticket     Fare Cabin Embarked  \n0        0         A/5 21171   7.2500   NaN        S  \n1        0          PC 17599  71.2833   C85        C  \n2        0  STON/O2. 3101282   7.9250   NaN        S  \n3        0            113803  53.1000  C123        S  \n4        0            373450   8.0500   NaN        S  \n..     ...               ...      ...   ...      ...  \n886      0            211536  13.0000   NaN        S  \n887      0            112053  30.0000   B42        S  \n888      2        W./C. 6607  23.4500   NaN        S  \n889      0            111369  30.0000  C148        C  \n890      0            370376   7.7500   NaN        Q  \n\n[891 rows x 12 columns]",
            "text/html": "<div>\n<style scoped>\n    .dataframe tbody tr th:only-of-type {\n        vertical-align: middle;\n    }\n\n    .dataframe tbody tr th {\n        vertical-align: top;\n    }\n\n    .dataframe thead th {\n        text-align: right;\n    }\n</style>\n<table border=\"1\" class=\"dataframe\">\n  <thead>\n    <tr style=\"text-align: right;\">\n      <th></th>\n      <th>PassengerId</th>\n      <th>Survived</th>\n      <th>Pclass</th>\n      <th>Name</th>\n      <th>Sex</th>\n      <th>Age</th>\n      <th>SibSp</th>\n      <th>Parch</th>\n      <th>Ticket</th>\n      <th>Fare</th>\n      <th>Cabin</th>\n      <th>Embarked</th>\n    </tr>\n  </thead>\n  <tbody>\n    <tr>\n      <td>0</td>\n      <td>1</td>\n      <td>0</td>\n      <td>3</td>\n      <td>Braund, Mr. Owen Harris</td>\n      <td>male</td>\n      <td>22.0</td>\n      <td>1</td>\n      <td>0</td>\n      <td>A/5 21171</td>\n      <td>7.2500</td>\n      <td>NaN</td>\n      <td>S</td>\n    </tr>\n    <tr>\n      <td>1</td>\n      <td>2</td>\n      <td>1</td>\n      <td>1</td>\n      <td>Cumings, Mrs. John Bradley (Florence Briggs Th...</td>\n      <td>female</td>\n      <td>38.0</td>\n      <td>1</td>\n      <td>0</td>\n      <td>PC 17599</td>\n      <td>71.2833</td>\n      <td>C85</td>\n      <td>C</td>\n    </tr>\n    <tr>\n      <td>2</td>\n      <td>3</td>\n      <td>1</td>\n      <td>3</td>\n      <td>Heikkinen, Miss. Laina</td>\n      <td>female</td>\n      <td>26.0</td>\n      <td>0</td>\n      <td>0</td>\n      <td>STON/O2. 3101282</td>\n      <td>7.9250</td>\n      <td>NaN</td>\n      <td>S</td>\n    </tr>\n    <tr>\n      <td>3</td>\n      <td>4</td>\n      <td>1</td>\n      <td>1</td>\n      <td>Futrelle, Mrs. Jacques Heath (Lily May Peel)</td>\n      <td>female</td>\n      <td>35.0</td>\n      <td>1</td>\n      <td>0</td>\n      <td>113803</td>\n      <td>53.1000</td>\n      <td>C123</td>\n      <td>S</td>\n    </tr>\n    <tr>\n      <td>4</td>\n      <td>5</td>\n      <td>0</td>\n      <td>3</td>\n      <td>Allen, Mr. William Henry</td>\n      <td>male</td>\n      <td>35.0</td>\n      <td>0</td>\n      <td>0</td>\n      <td>373450</td>\n      <td>8.0500</td>\n      <td>NaN</td>\n      <td>S</td>\n    </tr>\n    <tr>\n      <td>...</td>\n      <td>...</td>\n      <td>...</td>\n      <td>...</td>\n      <td>...</td>\n      <td>...</td>\n      <td>...</td>\n      <td>...</td>\n      <td>...</td>\n      <td>...</td>\n      <td>...</td>\n      <td>...</td>\n      <td>...</td>\n    </tr>\n    <tr>\n      <td>886</td>\n      <td>887</td>\n      <td>0</td>\n      <td>2</td>\n      <td>Montvila, Rev. Juozas</td>\n      <td>male</td>\n      <td>27.0</td>\n      <td>0</td>\n      <td>0</td>\n      <td>211536</td>\n      <td>13.0000</td>\n      <td>NaN</td>\n      <td>S</td>\n    </tr>\n    <tr>\n      <td>887</td>\n      <td>888</td>\n      <td>1</td>\n      <td>1</td>\n      <td>Graham, Miss. Margaret Edith</td>\n      <td>female</td>\n      <td>19.0</td>\n      <td>0</td>\n      <td>0</td>\n      <td>112053</td>\n      <td>30.0000</td>\n      <td>B42</td>\n      <td>S</td>\n    </tr>\n    <tr>\n      <td>888</td>\n      <td>889</td>\n      <td>0</td>\n      <td>3</td>\n      <td>Johnston, Miss. Catherine Helen \"Carrie\"</td>\n      <td>female</td>\n      <td>NaN</td>\n      <td>1</td>\n      <td>2</td>\n      <td>W./C. 6607</td>\n      <td>23.4500</td>\n      <td>NaN</td>\n      <td>S</td>\n    </tr>\n    <tr>\n      <td>889</td>\n      <td>890</td>\n      <td>1</td>\n      <td>1</td>\n      <td>Behr, Mr. Karl Howell</td>\n      <td>male</td>\n      <td>26.0</td>\n      <td>0</td>\n      <td>0</td>\n      <td>111369</td>\n      <td>30.0000</td>\n      <td>C148</td>\n      <td>C</td>\n    </tr>\n    <tr>\n      <td>890</td>\n      <td>891</td>\n      <td>0</td>\n      <td>3</td>\n      <td>Dooley, Mr. Patrick</td>\n      <td>male</td>\n      <td>32.0</td>\n      <td>0</td>\n      <td>0</td>\n      <td>370376</td>\n      <td>7.7500</td>\n      <td>NaN</td>\n      <td>Q</td>\n    </tr>\n  </tbody>\n</table>\n<p>891 rows × 12 columns</p>\n</div>"
          },
          "metadata": {},
          "execution_count": 48
        }
      ],
      "source": [
        "data"
      ]
    },
    {
      "cell_type": "code",
      "metadata": {
        "id": "ZRWrtgVq2NeB",
        "colab_type": "code",
        "colab": {}
      },
      "source": [
        "std = StandardScaler2()"
      ],
      "execution_count": 49,
      "outputs": []
    },
    {
      "cell_type": "code",
      "metadata": {
        "id": "j55gdKih2Pmc",
        "colab_type": "code",
        "colab": {}
      },
      "source": [
        "std.fit(data)"
      ],
      "execution_count": 50,
      "outputs": []
    },
    {
      "cell_type": "code",
      "metadata": {
        "id": "fY2O7vsYCBZ8",
        "colab_type": "code",
        "outputId": "c3d6ce5d-751f-4684-e480-55cf218d7189",
        "colab": {
          "base_uri": "https://localhost:8080/",
          "height": 420
        }
      },
      "source": [
        "std.params_"
      ],
      "execution_count": 51,
      "outputs": [
        {
          "output_type": "execute_result",
          "data": {
            "text/plain": "{'moyenne': [446.0,\n  0.3838383838383838,\n  2.308641975308642,\n  nan,\n  nan,\n  29.69911764705882,\n  0.5230078563411896,\n  0.38159371492704824,\n  nan,\n  32.2042079685746,\n  nan,\n  nan],\n 'ecart_type': [257.20938292890224,\n  0.48631931786710086,\n  0.8356019334795184,\n  nan,\n  nan,\n  14.516321150817316,\n  1.1021244350892825,\n  0.8056047612452284,\n  nan,\n  49.6655344447741,\n  nan,\n  nan]}"
          },
          "metadata": {},
          "execution_count": 51
        }
      ]
    },
    {
      "cell_type": "code",
      "metadata": {
        "id": "M4_XhKs8CXnY",
        "colab_type": "code",
        "outputId": "1027093b-edfe-49a7-ef2d-1c41d763c978",
        "colab": {
          "base_uri": "https://localhost:8080/",
          "height": 486
        }
      },
      "source": [
        "std.transform(data)"
      ],
      "execution_count": 52,
      "outputs": [
        {
          "output_type": "execute_result",
          "data": {
            "text/plain": "     PassengerId  Survived    Pclass  \\\n0      -1.730108 -0.789272  0.827377   \n1      -1.726220  1.266990 -1.566107   \n2      -1.722332  1.266990  0.827377   \n3      -1.718444  1.266990 -1.566107   \n4      -1.714556 -0.789272  0.827377   \n..           ...       ...       ...   \n886     1.714556 -0.789272 -0.369365   \n887     1.718444  1.266990 -1.566107   \n888     1.722332 -0.789272  0.827377   \n889     1.726220  1.266990 -1.566107   \n890     1.730108 -0.789272  0.827377   \n\n                                                  Name     Sex       Age  \\\n0                              Braund, Mr. Owen Harris    male -0.530377   \n1    Cumings, Mrs. John Bradley (Florence Briggs Th...  female  0.571831   \n2                               Heikkinen, Miss. Laina  female -0.254825   \n3         Futrelle, Mrs. Jacques Heath (Lily May Peel)  female  0.365167   \n4                             Allen, Mr. William Henry    male  0.365167   \n..                                                 ...     ...       ...   \n886                              Montvila, Rev. Juozas    male -0.185937   \n887                       Graham, Miss. Margaret Edith  female -0.737041   \n888           Johnston, Miss. Catherine Helen \"Carrie\"  female       NaN   \n889                              Behr, Mr. Karl Howell    male -0.254825   \n890                                Dooley, Mr. Patrick    male  0.158503   \n\n        SibSp     Parch            Ticket      Fare Cabin Embarked  \n0    0.432793 -0.473674         A/5 21171 -0.502445   NaN        S  \n1    0.432793 -0.473674          PC 17599  0.786845   C85        C  \n2   -0.474545 -0.473674  STON/O2. 3101282 -0.488854   NaN        S  \n3    0.432793 -0.473674            113803  0.420730  C123        S  \n4   -0.474545 -0.473674            373450 -0.486337   NaN        S  \n..        ...       ...               ...       ...   ...      ...  \n886 -0.474545 -0.473674            211536 -0.386671   NaN        S  \n887 -0.474545 -0.473674            112053 -0.044381   B42        S  \n888  0.432793  2.008933        W./C. 6607 -0.176263   NaN        S  \n889 -0.474545 -0.473674            111369 -0.044381  C148        C  \n890 -0.474545 -0.473674            370376 -0.492378   NaN        Q  \n\n[891 rows x 12 columns]",
            "text/html": "<div>\n<style scoped>\n    .dataframe tbody tr th:only-of-type {\n        vertical-align: middle;\n    }\n\n    .dataframe tbody tr th {\n        vertical-align: top;\n    }\n\n    .dataframe thead th {\n        text-align: right;\n    }\n</style>\n<table border=\"1\" class=\"dataframe\">\n  <thead>\n    <tr style=\"text-align: right;\">\n      <th></th>\n      <th>PassengerId</th>\n      <th>Survived</th>\n      <th>Pclass</th>\n      <th>Name</th>\n      <th>Sex</th>\n      <th>Age</th>\n      <th>SibSp</th>\n      <th>Parch</th>\n      <th>Ticket</th>\n      <th>Fare</th>\n      <th>Cabin</th>\n      <th>Embarked</th>\n    </tr>\n  </thead>\n  <tbody>\n    <tr>\n      <td>0</td>\n      <td>-1.730108</td>\n      <td>-0.789272</td>\n      <td>0.827377</td>\n      <td>Braund, Mr. Owen Harris</td>\n      <td>male</td>\n      <td>-0.530377</td>\n      <td>0.432793</td>\n      <td>-0.473674</td>\n      <td>A/5 21171</td>\n      <td>-0.502445</td>\n      <td>NaN</td>\n      <td>S</td>\n    </tr>\n    <tr>\n      <td>1</td>\n      <td>-1.726220</td>\n      <td>1.266990</td>\n      <td>-1.566107</td>\n      <td>Cumings, Mrs. John Bradley (Florence Briggs Th...</td>\n      <td>female</td>\n      <td>0.571831</td>\n      <td>0.432793</td>\n      <td>-0.473674</td>\n      <td>PC 17599</td>\n      <td>0.786845</td>\n      <td>C85</td>\n      <td>C</td>\n    </tr>\n    <tr>\n      <td>2</td>\n      <td>-1.722332</td>\n      <td>1.266990</td>\n      <td>0.827377</td>\n      <td>Heikkinen, Miss. Laina</td>\n      <td>female</td>\n      <td>-0.254825</td>\n      <td>-0.474545</td>\n      <td>-0.473674</td>\n      <td>STON/O2. 3101282</td>\n      <td>-0.488854</td>\n      <td>NaN</td>\n      <td>S</td>\n    </tr>\n    <tr>\n      <td>3</td>\n      <td>-1.718444</td>\n      <td>1.266990</td>\n      <td>-1.566107</td>\n      <td>Futrelle, Mrs. Jacques Heath (Lily May Peel)</td>\n      <td>female</td>\n      <td>0.365167</td>\n      <td>0.432793</td>\n      <td>-0.473674</td>\n      <td>113803</td>\n      <td>0.420730</td>\n      <td>C123</td>\n      <td>S</td>\n    </tr>\n    <tr>\n      <td>4</td>\n      <td>-1.714556</td>\n      <td>-0.789272</td>\n      <td>0.827377</td>\n      <td>Allen, Mr. William Henry</td>\n      <td>male</td>\n      <td>0.365167</td>\n      <td>-0.474545</td>\n      <td>-0.473674</td>\n      <td>373450</td>\n      <td>-0.486337</td>\n      <td>NaN</td>\n      <td>S</td>\n    </tr>\n    <tr>\n      <td>...</td>\n      <td>...</td>\n      <td>...</td>\n      <td>...</td>\n      <td>...</td>\n      <td>...</td>\n      <td>...</td>\n      <td>...</td>\n      <td>...</td>\n      <td>...</td>\n      <td>...</td>\n      <td>...</td>\n      <td>...</td>\n    </tr>\n    <tr>\n      <td>886</td>\n      <td>1.714556</td>\n      <td>-0.789272</td>\n      <td>-0.369365</td>\n      <td>Montvila, Rev. Juozas</td>\n      <td>male</td>\n      <td>-0.185937</td>\n      <td>-0.474545</td>\n      <td>-0.473674</td>\n      <td>211536</td>\n      <td>-0.386671</td>\n      <td>NaN</td>\n      <td>S</td>\n    </tr>\n    <tr>\n      <td>887</td>\n      <td>1.718444</td>\n      <td>1.266990</td>\n      <td>-1.566107</td>\n      <td>Graham, Miss. Margaret Edith</td>\n      <td>female</td>\n      <td>-0.737041</td>\n      <td>-0.474545</td>\n      <td>-0.473674</td>\n      <td>112053</td>\n      <td>-0.044381</td>\n      <td>B42</td>\n      <td>S</td>\n    </tr>\n    <tr>\n      <td>888</td>\n      <td>1.722332</td>\n      <td>-0.789272</td>\n      <td>0.827377</td>\n      <td>Johnston, Miss. Catherine Helen \"Carrie\"</td>\n      <td>female</td>\n      <td>NaN</td>\n      <td>0.432793</td>\n      <td>2.008933</td>\n      <td>W./C. 6607</td>\n      <td>-0.176263</td>\n      <td>NaN</td>\n      <td>S</td>\n    </tr>\n    <tr>\n      <td>889</td>\n      <td>1.726220</td>\n      <td>1.266990</td>\n      <td>-1.566107</td>\n      <td>Behr, Mr. Karl Howell</td>\n      <td>male</td>\n      <td>-0.254825</td>\n      <td>-0.474545</td>\n      <td>-0.473674</td>\n      <td>111369</td>\n      <td>-0.044381</td>\n      <td>C148</td>\n      <td>C</td>\n    </tr>\n    <tr>\n      <td>890</td>\n      <td>1.730108</td>\n      <td>-0.789272</td>\n      <td>0.827377</td>\n      <td>Dooley, Mr. Patrick</td>\n      <td>male</td>\n      <td>0.158503</td>\n      <td>-0.474545</td>\n      <td>-0.473674</td>\n      <td>370376</td>\n      <td>-0.492378</td>\n      <td>NaN</td>\n      <td>Q</td>\n    </tr>\n  </tbody>\n</table>\n<p>891 rows × 12 columns</p>\n</div>"
          },
          "metadata": {},
          "execution_count": 52
        }
      ]
    },
    {
      "cell_type": "code",
      "execution_count": 61,
      "metadata": {},
      "outputs": [],
      "source": [
        "class Standascaler():\n",
        "    def __init__(self):\n",
        "        self.params_ = {}\n",
        "    \n",
        "    def fit(self, X):\n",
        "        self.mean_ = np.mean(X, axis=0)\n",
        "        self.scale_ = np.std(X - self.mean_, axis=0)\n",
        "        self.params_.update({'mean': self.mean_, 'scale': self.scale_})\n",
        "\n",
        "    def transform(self, X):\n",
        "        return (X - self.mean_) / self.scale_\n",
        "\n",
        "    def fit_transform(self, X):\n",
        "        return self.fit(X).transform(X)"
      ]
    },
    {
      "cell_type": "code",
      "execution_count": 62,
      "metadata": {},
      "outputs": [
        {
          "output_type": "execute_result",
          "data": {
            "text/plain": "   PassengerId  Survived  Pclass   Age  SibSp  Parch     Fare\n0            1         0       3  22.0      1      0   7.2500\n1            2         1       1  38.0      1      0  71.2833\n2            3         1       3  26.0      0      0   7.9250\n3            4         1       1  35.0      1      0  53.1000\n4            5         0       3  35.0      0      0   8.0500",
            "text/html": "<div>\n<style scoped>\n    .dataframe tbody tr th:only-of-type {\n        vertical-align: middle;\n    }\n\n    .dataframe tbody tr th {\n        vertical-align: top;\n    }\n\n    .dataframe thead th {\n        text-align: right;\n    }\n</style>\n<table border=\"1\" class=\"dataframe\">\n  <thead>\n    <tr style=\"text-align: right;\">\n      <th></th>\n      <th>PassengerId</th>\n      <th>Survived</th>\n      <th>Pclass</th>\n      <th>Age</th>\n      <th>SibSp</th>\n      <th>Parch</th>\n      <th>Fare</th>\n    </tr>\n  </thead>\n  <tbody>\n    <tr>\n      <td>0</td>\n      <td>1</td>\n      <td>0</td>\n      <td>3</td>\n      <td>22.0</td>\n      <td>1</td>\n      <td>0</td>\n      <td>7.2500</td>\n    </tr>\n    <tr>\n      <td>1</td>\n      <td>2</td>\n      <td>1</td>\n      <td>1</td>\n      <td>38.0</td>\n      <td>1</td>\n      <td>0</td>\n      <td>71.2833</td>\n    </tr>\n    <tr>\n      <td>2</td>\n      <td>3</td>\n      <td>1</td>\n      <td>3</td>\n      <td>26.0</td>\n      <td>0</td>\n      <td>0</td>\n      <td>7.9250</td>\n    </tr>\n    <tr>\n      <td>3</td>\n      <td>4</td>\n      <td>1</td>\n      <td>1</td>\n      <td>35.0</td>\n      <td>1</td>\n      <td>0</td>\n      <td>53.1000</td>\n    </tr>\n    <tr>\n      <td>4</td>\n      <td>5</td>\n      <td>0</td>\n      <td>3</td>\n      <td>35.0</td>\n      <td>0</td>\n      <td>0</td>\n      <td>8.0500</td>\n    </tr>\n  </tbody>\n</table>\n</div>"
          },
          "metadata": {},
          "execution_count": 62
        }
      ],
      "source": [
        "data2 = pd.read_csv(\"train.csv\")\n",
        "data2 = data2.drop(columns=['Name', 'Sex', 'Ticket', 'Cabin', 'Embarked'])\n",
        "\n",
        "data2.head()"
      ]
    },
    {
      "cell_type": "code",
      "execution_count": 63,
      "metadata": {},
      "outputs": [],
      "source": [
        "scl = Standascaler()"
      ]
    },
    {
      "cell_type": "code",
      "execution_count": 64,
      "metadata": {},
      "outputs": [],
      "source": [
        "scl.fit(data2)"
      ]
    },
    {
      "cell_type": "code",
      "execution_count": 65,
      "metadata": {},
      "outputs": [
        {
          "output_type": "execute_result",
          "data": {
            "text/plain": "     PassengerId  Survived    Pclass       Age     SibSp     Parch      Fare\n0      -1.730108 -0.789272  0.827377 -0.530377  0.432793 -0.473674 -0.502445\n1      -1.726220  1.266990 -1.566107  0.571831  0.432793 -0.473674  0.786845\n2      -1.722332  1.266990  0.827377 -0.254825 -0.474545 -0.473674 -0.488854\n3      -1.718444  1.266990 -1.566107  0.365167  0.432793 -0.473674  0.420730\n4      -1.714556 -0.789272  0.827377  0.365167 -0.474545 -0.473674 -0.486337\n..           ...       ...       ...       ...       ...       ...       ...\n886     1.714556 -0.789272 -0.369365 -0.185937 -0.474545 -0.473674 -0.386671\n887     1.718444  1.266990 -1.566107 -0.737041 -0.474545 -0.473674 -0.044381\n888     1.722332 -0.789272  0.827377       NaN  0.432793  2.008933 -0.176263\n889     1.726220  1.266990 -1.566107 -0.254825 -0.474545 -0.473674 -0.044381\n890     1.730108 -0.789272  0.827377  0.158503 -0.474545 -0.473674 -0.492378\n\n[891 rows x 7 columns]",
            "text/html": "<div>\n<style scoped>\n    .dataframe tbody tr th:only-of-type {\n        vertical-align: middle;\n    }\n\n    .dataframe tbody tr th {\n        vertical-align: top;\n    }\n\n    .dataframe thead th {\n        text-align: right;\n    }\n</style>\n<table border=\"1\" class=\"dataframe\">\n  <thead>\n    <tr style=\"text-align: right;\">\n      <th></th>\n      <th>PassengerId</th>\n      <th>Survived</th>\n      <th>Pclass</th>\n      <th>Age</th>\n      <th>SibSp</th>\n      <th>Parch</th>\n      <th>Fare</th>\n    </tr>\n  </thead>\n  <tbody>\n    <tr>\n      <td>0</td>\n      <td>-1.730108</td>\n      <td>-0.789272</td>\n      <td>0.827377</td>\n      <td>-0.530377</td>\n      <td>0.432793</td>\n      <td>-0.473674</td>\n      <td>-0.502445</td>\n    </tr>\n    <tr>\n      <td>1</td>\n      <td>-1.726220</td>\n      <td>1.266990</td>\n      <td>-1.566107</td>\n      <td>0.571831</td>\n      <td>0.432793</td>\n      <td>-0.473674</td>\n      <td>0.786845</td>\n    </tr>\n    <tr>\n      <td>2</td>\n      <td>-1.722332</td>\n      <td>1.266990</td>\n      <td>0.827377</td>\n      <td>-0.254825</td>\n      <td>-0.474545</td>\n      <td>-0.473674</td>\n      <td>-0.488854</td>\n    </tr>\n    <tr>\n      <td>3</td>\n      <td>-1.718444</td>\n      <td>1.266990</td>\n      <td>-1.566107</td>\n      <td>0.365167</td>\n      <td>0.432793</td>\n      <td>-0.473674</td>\n      <td>0.420730</td>\n    </tr>\n    <tr>\n      <td>4</td>\n      <td>-1.714556</td>\n      <td>-0.789272</td>\n      <td>0.827377</td>\n      <td>0.365167</td>\n      <td>-0.474545</td>\n      <td>-0.473674</td>\n      <td>-0.486337</td>\n    </tr>\n    <tr>\n      <td>...</td>\n      <td>...</td>\n      <td>...</td>\n      <td>...</td>\n      <td>...</td>\n      <td>...</td>\n      <td>...</td>\n      <td>...</td>\n    </tr>\n    <tr>\n      <td>886</td>\n      <td>1.714556</td>\n      <td>-0.789272</td>\n      <td>-0.369365</td>\n      <td>-0.185937</td>\n      <td>-0.474545</td>\n      <td>-0.473674</td>\n      <td>-0.386671</td>\n    </tr>\n    <tr>\n      <td>887</td>\n      <td>1.718444</td>\n      <td>1.266990</td>\n      <td>-1.566107</td>\n      <td>-0.737041</td>\n      <td>-0.474545</td>\n      <td>-0.473674</td>\n      <td>-0.044381</td>\n    </tr>\n    <tr>\n      <td>888</td>\n      <td>1.722332</td>\n      <td>-0.789272</td>\n      <td>0.827377</td>\n      <td>NaN</td>\n      <td>0.432793</td>\n      <td>2.008933</td>\n      <td>-0.176263</td>\n    </tr>\n    <tr>\n      <td>889</td>\n      <td>1.726220</td>\n      <td>1.266990</td>\n      <td>-1.566107</td>\n      <td>-0.254825</td>\n      <td>-0.474545</td>\n      <td>-0.473674</td>\n      <td>-0.044381</td>\n    </tr>\n    <tr>\n      <td>890</td>\n      <td>1.730108</td>\n      <td>-0.789272</td>\n      <td>0.827377</td>\n      <td>0.158503</td>\n      <td>-0.474545</td>\n      <td>-0.473674</td>\n      <td>-0.492378</td>\n    </tr>\n  </tbody>\n</table>\n<p>891 rows × 7 columns</p>\n</div>"
          },
          "metadata": {},
          "execution_count": 65
        }
      ],
      "source": [
        "scl.transform(data2)"
      ]
    },
    {
      "cell_type": "code",
      "execution_count": 66,
      "metadata": {},
      "outputs": [
        {
          "output_type": "execute_result",
          "data": {
            "text/plain": "{'mean': PassengerId    446.000000\n Survived         0.383838\n Pclass           2.308642\n Age             29.699118\n SibSp            0.523008\n Parch            0.381594\n Fare            32.204208\n dtype: float64, 'scale': PassengerId    257.209383\n Survived         0.486319\n Pclass           0.835602\n Age             14.516321\n SibSp            1.102124\n Parch            0.805605\n Fare            49.665534\n dtype: float64}"
          },
          "metadata": {},
          "execution_count": 66
        }
      ],
      "source": [
        "scl.params_"
      ]
    }
  ]
}