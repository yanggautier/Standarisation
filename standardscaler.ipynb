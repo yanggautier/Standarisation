{
  "nbformat": 4,
  "nbformat_minor": 0,
  "metadata": {
    "colab": {
      "name": "analyse.ipynb",
      "provenance": [],
      "collapsed_sections": [],
      "toc_visible": true
    },
    "kernelspec": {
      "name": "python3",
      "display_name": "Python 3"
    }
  },
  "cells": [
    {
      "cell_type": "code",
      "metadata": {
        "id": "Ywr9JxLtl03c",
        "colab_type": "code",
        "colab": {}
      },
      "source": [
        "import pandas as pd\n",
        "import numpy as np\n",
        ""
      ],
      "execution_count": 3,
      "outputs": []
    },
    {
      "cell_type": "markdown",
      "metadata": {
        "id": "HFRpPGbRnPAQ",
        "colab_type": "text"
      },
      "source": [
        "Créer une class StandardScaler2 avec comme méthode fit, transform, fit_transform et en attribut un dicitonnaire params_ qui contient la moyenne et l'écart_type de vos données. \n",
        "Les données en entrées sont uniquement de array numpy (pas des dataframes) me dire que vous avez terminé avant de faire le bonus.\n",
        "en bonus :\n",
        " - mettre une erreur si on essaye de transform sans avoir de fit\n",
        " - permettre au code de fonctionner, peut importe si l'entrée est une numpy array ou une dataframe\n",
        " "
      ]
    },
    {
      "cell_type": "markdown",
      "metadata": {
        "id": "RBu0xqgQrIEx",
        "colab_type": "text"
      },
      "source": [
        "## Ecart type\n",
        "$$\\sigma = \\sqrt{\\frac {1}{N} \\sum_{i=1}^N (x_i - \\bar{x})^2}$$\n"
      ]
    },
    {
      "cell_type": "markdown",
      "metadata": {
        "id": "l_1ubeCUvvFF",
        "colab_type": "text"
      },
      "source": [
        "### Standarisation:\n",
        "$$z_{ij} = \\frac{x_{ij} - \\bar{x}_i}{\\sigma_i}$$\n",
        "\n",
        "avec :\n",
        "\n",
        "  - $x$ la valeur qu’on veut standardiser (input variable)\n",
        "  - $\\bar{x}$ la moyenne (mean) des observations pour cette feature\n",
        "  - $\\sigma$ est l’ecart-type (Standard Deviation) des observations pour cette feature\n"
      ]
    },
    {
      "cell_type": "code",
      "metadata": {
        "id": "F2cO695znGof",
        "colab_type": "code",
        "colab": {}
      },
      "source": [
        "class StandardScaler2():\n",
        "\n",
        "  # def __init__ (self, data):\n",
        "  #   self.data = data\n",
        "\n",
        "  def fit(self, data):\n",
        "    self.params_= {}\n",
        "    if type(data) == np.ndarray:\n",
        "      self.params_['moyenne'] = [data.mean()]\n",
        "      self.params_['ecart_type'] = [data.std()]\n",
        "      # self.params_['ecart_type'] = sum([(elem - self.params_['moyenne'])**2 for elem in data])/len(data)\n",
        "    \n",
        "    elif type(data) == pd.core.frame.DataFrame:\n",
        "      self.params_['moyenne'] = []\n",
        "      self.params_['ecart_type'] = []\n",
        "\n",
        "      for column in data.columns:\n",
        "        if np.issubdtype(data[column].dtype, np.number):\n",
        "           self.params_['moyenne'].append(data[column].mean())\n",
        "           self.params_['ecart_type'].append(data[column].std())\n",
        "        else:\n",
        "           self.params_['moyenne'].append(np.nan)\n",
        "           self.params_['ecart_type'].append(np.nan)\n",
        "\n",
        "\n",
        "      # self.params_['moyenne'] = [data[column].mean() for column in  data.columns]\n",
        "      # self.params_['ecart_type'] = [data[column].std() for column in data.columns]\n",
        "\n",
        "      # for col_nb in range(len(data.columns)):\n",
        "      #   ecart_type = 0\n",
        "      #   if (data.dtypes[data.columns[col_nb]] == 'float64' or data.dtypes[data.columns[col_nb]] == 'int64'):\n",
        "\n",
        "      #     for row_value in data[data.columns[col_nb]]:\n",
        "      #       # print(row_value)\n",
        "      #       ecart_type += (row_value - self.params_['moyenne'][col_nb])**2\n",
        "      #   else:\n",
        "      #     pass\n",
        "\n",
        "      # ecart_type = np.sqrt(ecart_type / len(data.columns))\n",
        "      # self.params_['ecart_type'].append(ecart_type)\n",
        "    \n",
        "    else:\n",
        "      return\n",
        "\n",
        "  # def transform(self,data):\n",
        "  #   if(self.params_):\n",
        "  #     for i in range(len(data.columns)):\n",
        "  #       for j in range(len(data.columns[i])):\n",
        "  #         data[data.columns[i]][j] = (data[data.columns[i]][j] - self.params_['moyenne'][i])/self.params_['ecart_type'][i]\n",
        "  #     return data\n",
        "  #   else:\n",
        "  #     print(\"Vous n'avez pas encore fait le fit\")\n",
        "  #     pass\n",
        "\n",
        "  def transform(self,data):\n",
        "    if self.params_:\n",
        "      # for i in range(len(data.values)):\n",
        "      #   for j in range(len(data.values[i])):\n",
        "      #     if (type(data[i,j]) == int or type(data[i,j]) == float):\n",
        "      #       data.values[i,j] = (data.values[i,j] - self.params_['moyenne'][i])/self.params_['ecart_type'][i]\n",
        "      # return data\n",
        "      if type(data) == np.ndarray:\n",
        "        data = [(ele - self.params_['moyenne'][0])/self.params_['ecart_type'][0] for ele in data]\n",
        "        return data\n",
        "\n",
        "      elif type(data) ==  pd.core.frame.DataFrame:\n",
        "        for i in range(len(data.columns)):\n",
        "          if np.issubdtype(data[data.columns[i]].dtype, np.number):\n",
        "            data[data.columns[i]] = (data[data.columns[i]] - self.params_['moyenne'][i])/self.params_['ecart_type'][i]\n",
        "        return data\n",
        "      else:\n",
        "        print(\"La donnée que vous avez entré n'est pas un array ou un DataFrame\")\n",
        "        return\n",
        "    else:\n",
        "      print(\"Vous n'avez pas encore fait le fit(calculer la moyenne et l'écart-type)\")\n",
        "      return\n",
        "\n",
        "  def fit_transform(self,data):\n",
        "    self.fit(self,data).transform(self,data)\n",
        "  "
      ],
      "execution_count": 45,
      "outputs": []
    },
    {
      "cell_type": "code",
      "metadata": {
        "id": "pI7xwzEQxJtG",
        "colab_type": "code",
        "outputId": "559d3e91-9fdc-4733-fbe3-c3d1d38060ad",
        "colab": {
          "base_uri": "https://localhost:8080/",
          "height": 50
        }
      },
      "source": [
        "data = pd.read_csv(\"train.csv\")\n",
        "print(type(data) == pd.core.frame.DataFrame)\n",
        "print(data.shape)"
      ],
      "execution_count": 46,
      "outputs": [
        {
          "output_type": "stream",
          "name": "stdout",
          "text": "True\n(891, 12)\n"
        }
      ]
    },
    {
      "cell_type": "code",
      "execution_count": 47,
      "metadata": {},
      "outputs": [
        {
          "output_type": "execute_result",
          "data": {
            "text/plain": "     PassengerId  Survived  Pclass  \\\n0              1         0       3   \n1              2         1       1   \n2              3         1       3   \n3              4         1       1   \n4              5         0       3   \n..           ...       ...     ...   \n886          887         0       2   \n887          888         1       1   \n888          889         0       3   \n889          890         1       1   \n890          891         0       3   \n\n                                                  Name     Sex   Age  SibSp  \\\n0                              Braund, Mr. Owen Harris    male  22.0      1   \n1    Cumings, Mrs. John Bradley (Florence Briggs Th...  female  38.0      1   \n2                               Heikkinen, Miss. Laina  female  26.0      0   \n3         Futrelle, Mrs. Jacques Heath (Lily May Peel)  female  35.0      1   \n4                             Allen, Mr. William Henry    male  35.0      0   \n..                                                 ...     ...   ...    ...   \n886                              Montvila, Rev. Juozas    male  27.0      0   \n887                       Graham, Miss. Margaret Edith  female  19.0      0   \n888           Johnston, Miss. Catherine Helen \"Carrie\"  female   NaN      1   \n889                              Behr, Mr. Karl Howell    male  26.0      0   \n890                                Dooley, Mr. Patrick    male  32.0      0   \n\n     Parch            Ticket     Fare Cabin Embarked  \n0        0         A/5 21171   7.2500   NaN        S  \n1        0          PC 17599  71.2833   C85        C  \n2        0  STON/O2. 3101282   7.9250   NaN        S  \n3        0            113803  53.1000  C123        S  \n4        0            373450   8.0500   NaN        S  \n..     ...               ...      ...   ...      ...  \n886      0            211536  13.0000   NaN        S  \n887      0            112053  30.0000   B42        S  \n888      2        W./C. 6607  23.4500   NaN        S  \n889      0            111369  30.0000  C148        C  \n890      0            370376   7.7500   NaN        Q  \n\n[891 rows x 12 columns]",
            "text/html": "<div>\n<style scoped>\n    .dataframe tbody tr th:only-of-type {\n        vertical-align: middle;\n    }\n\n    .dataframe tbody tr th {\n        vertical-align: top;\n    }\n\n    .dataframe thead th {\n        text-align: right;\n    }\n</style>\n<table border=\"1\" class=\"dataframe\">\n  <thead>\n    <tr style=\"text-align: right;\">\n      <th></th>\n      <th>PassengerId</th>\n      <th>Survived</th>\n      <th>Pclass</th>\n      <th>Name</th>\n      <th>Sex</th>\n      <th>Age</th>\n      <th>SibSp</th>\n      <th>Parch</th>\n      <th>Ticket</th>\n      <th>Fare</th>\n      <th>Cabin</th>\n      <th>Embarked</th>\n    </tr>\n  </thead>\n  <tbody>\n    <tr>\n      <td>0</td>\n      <td>1</td>\n      <td>0</td>\n      <td>3</td>\n      <td>Braund, Mr. Owen Harris</td>\n      <td>male</td>\n      <td>22.0</td>\n      <td>1</td>\n      <td>0</td>\n      <td>A/5 21171</td>\n      <td>7.2500</td>\n      <td>NaN</td>\n      <td>S</td>\n    </tr>\n    <tr>\n      <td>1</td>\n      <td>2</td>\n      <td>1</td>\n      <td>1</td>\n      <td>Cumings, Mrs. John Bradley (Florence Briggs Th...</td>\n      <td>female</td>\n      <td>38.0</td>\n      <td>1</td>\n      <td>0</td>\n      <td>PC 17599</td>\n      <td>71.2833</td>\n      <td>C85</td>\n      <td>C</td>\n    </tr>\n    <tr>\n      <td>2</td>\n      <td>3</td>\n      <td>1</td>\n      <td>3</td>\n      <td>Heikkinen, Miss. Laina</td>\n      <td>female</td>\n      <td>26.0</td>\n      <td>0</td>\n      <td>0</td>\n      <td>STON/O2. 3101282</td>\n      <td>7.9250</td>\n      <td>NaN</td>\n      <td>S</td>\n    </tr>\n    <tr>\n      <td>3</td>\n      <td>4</td>\n      <td>1</td>\n      <td>1</td>\n      <td>Futrelle, Mrs. Jacques Heath (Lily May Peel)</td>\n      <td>female</td>\n      <td>35.0</td>\n      <td>1</td>\n      <td>0</td>\n      <td>113803</td>\n      <td>53.1000</td>\n      <td>C123</td>\n      <td>S</td>\n    </tr>\n    <tr>\n      <td>4</td>\n      <td>5</td>\n      <td>0</td>\n      <td>3</td>\n      <td>Allen, Mr. William Henry</td>\n      <td>male</td>\n      <td>35.0</td>\n      <td>0</td>\n      <td>0</td>\n      <td>373450</td>\n      <td>8.0500</td>\n      <td>NaN</td>\n      <td>S</td>\n    </tr>\n    <tr>\n      <td>...</td>\n      <td>...</td>\n      <td>...</td>\n      <td>...</td>\n      <td>...</td>\n      <td>...</td>\n      <td>...</td>\n      <td>...</td>\n      <td>...</td>\n      <td>...</td>\n      <td>...</td>\n      <td>...</td>\n      <td>...</td>\n    </tr>\n    <tr>\n      <td>886</td>\n      <td>887</td>\n      <td>0</td>\n      <td>2</td>\n      <td>Montvila, Rev. Juozas</td>\n      <td>male</td>\n      <td>27.0</td>\n      <td>0</td>\n      <td>0</td>\n      <td>211536</td>\n      <td>13.0000</td>\n      <td>NaN</td>\n      <td>S</td>\n    </tr>\n    <tr>\n      <td>887</td>\n      <td>888</td>\n      <td>1</td>\n      <td>1</td>\n      <td>Graham, Miss. Margaret Edith</td>\n      <td>female</td>\n      <td>19.0</td>\n      <td>0</td>\n      <td>0</td>\n      <td>112053</td>\n      <td>30.0000</td>\n      <td>B42</td>\n      <td>S</td>\n    </tr>\n    <tr>\n      <td>888</td>\n      <td>889</td>\n      <td>0</td>\n      <td>3</td>\n      <td>Johnston, Miss. Catherine Helen \"Carrie\"</td>\n      <td>female</td>\n      <td>NaN</td>\n      <td>1</td>\n      <td>2</td>\n      <td>W./C. 6607</td>\n      <td>23.4500</td>\n      <td>NaN</td>\n      <td>S</td>\n    </tr>\n    <tr>\n      <td>889</td>\n      <td>890</td>\n      <td>1</td>\n      <td>1</td>\n      <td>Behr, Mr. Karl Howell</td>\n      <td>male</td>\n      <td>26.0</td>\n      <td>0</td>\n      <td>0</td>\n      <td>111369</td>\n      <td>30.0000</td>\n      <td>C148</td>\n      <td>C</td>\n    </tr>\n    <tr>\n      <td>890</td>\n      <td>891</td>\n      <td>0</td>\n      <td>3</td>\n      <td>Dooley, Mr. Patrick</td>\n      <td>male</td>\n      <td>32.0</td>\n      <td>0</td>\n      <td>0</td>\n      <td>370376</td>\n      <td>7.7500</td>\n      <td>NaN</td>\n      <td>Q</td>\n    </tr>\n  </tbody>\n</table>\n<p>891 rows × 12 columns</p>\n</div>"
          },
          "metadata": {},
          "execution_count": 47
        }
      ],
      "source": [
        "data"
      ]
    },
    {
      "cell_type": "code",
      "metadata": {
        "id": "ZRWrtgVq2NeB",
        "colab_type": "code",
        "colab": {}
      },
      "source": [
        "std = StandardScaler2()"
      ],
      "execution_count": 48,
      "outputs": []
    },
    {
      "cell_type": "code",
      "metadata": {
        "id": "j55gdKih2Pmc",
        "colab_type": "code",
        "colab": {}
      },
      "source": [
        "std.fit(data)"
      ],
      "execution_count": 49,
      "outputs": []
    },
    {
      "cell_type": "code",
      "metadata": {
        "id": "fY2O7vsYCBZ8",
        "colab_type": "code",
        "outputId": "c3d6ce5d-751f-4684-e480-55cf218d7189",
        "colab": {
          "base_uri": "https://localhost:8080/",
          "height": 420
        }
      },
      "source": [
        "std.params_"
      ],
      "execution_count": 50,
      "outputs": [
        {
          "output_type": "execute_result",
          "data": {
            "text/plain": "{'moyenne': [446.0,\n  0.3838383838383838,\n  2.308641975308642,\n  nan,\n  nan,\n  29.69911764705882,\n  0.5230078563411896,\n  0.38159371492704824,\n  nan,\n  32.2042079685746,\n  nan,\n  nan],\n 'ecart_type': [257.3538420152301,\n  0.4865924542648585,\n  0.8360712409770513,\n  nan,\n  nan,\n  14.526497332334044,\n  1.1027434322934275,\n  0.8060572211299559,\n  nan,\n  49.693428597180905,\n  nan,\n  nan]}"
          },
          "metadata": {},
          "execution_count": 50
        }
      ]
    },
    {
      "cell_type": "code",
      "metadata": {
        "id": "M4_XhKs8CXnY",
        "colab_type": "code",
        "outputId": "1027093b-edfe-49a7-ef2d-1c41d763c978",
        "colab": {
          "base_uri": "https://localhost:8080/",
          "height": 486
        }
      },
      "source": [
        "std.transform(data)"
      ],
      "execution_count": 51,
      "outputs": [
        {
          "output_type": "execute_result",
          "data": {
            "text/plain": "     PassengerId  Survived    Pclass  \\\n0      -1.729137 -0.788829  0.826913   \n1      -1.725251  1.266279 -1.565228   \n2      -1.721365  1.266279  0.826913   \n3      -1.717480  1.266279 -1.565228   \n4      -1.713594 -0.788829  0.826913   \n..           ...       ...       ...   \n886     1.713594 -0.788829 -0.369158   \n887     1.717480  1.266279 -1.565228   \n888     1.721365 -0.788829  0.826913   \n889     1.725251  1.266279 -1.565228   \n890     1.729137 -0.788829  0.826913   \n\n                                                  Name     Sex       Age  \\\n0                              Braund, Mr. Owen Harris    male -0.530005   \n1    Cumings, Mrs. John Bradley (Florence Briggs Th...  female  0.571430   \n2                               Heikkinen, Miss. Laina  female -0.254646   \n3         Futrelle, Mrs. Jacques Heath (Lily May Peel)  female  0.364911   \n4                             Allen, Mr. William Henry    male  0.364911   \n..                                                 ...     ...       ...   \n886                              Montvila, Rev. Juozas    male -0.185807   \n887                       Graham, Miss. Margaret Edith  female -0.736524   \n888           Johnston, Miss. Catherine Helen \"Carrie\"  female       NaN   \n889                              Behr, Mr. Karl Howell    male -0.254646   \n890                                Dooley, Mr. Patrick    male  0.158392   \n\n        SibSp     Parch            Ticket      Fare Cabin Embarked  \n0    0.432550 -0.473408         A/5 21171 -0.502163   NaN        S  \n1    0.432550 -0.473408          PC 17599  0.786404   C85        C  \n2   -0.474279 -0.473408  STON/O2. 3101282 -0.488580   NaN        S  \n3    0.432550 -0.473408            113803  0.420494  C123        S  \n4   -0.474279 -0.473408            373450 -0.486064   NaN        S  \n..        ...       ...               ...       ...   ...      ...  \n886 -0.474279 -0.473408            211536 -0.386454   NaN        S  \n887 -0.474279 -0.473408            112053 -0.044356   B42        S  \n888  0.432550  2.007806        W./C. 6607 -0.176164   NaN        S  \n889 -0.474279 -0.473408            111369 -0.044356  C148        C  \n890 -0.474279 -0.473408            370376 -0.492101   NaN        Q  \n\n[891 rows x 12 columns]",
            "text/html": "<div>\n<style scoped>\n    .dataframe tbody tr th:only-of-type {\n        vertical-align: middle;\n    }\n\n    .dataframe tbody tr th {\n        vertical-align: top;\n    }\n\n    .dataframe thead th {\n        text-align: right;\n    }\n</style>\n<table border=\"1\" class=\"dataframe\">\n  <thead>\n    <tr style=\"text-align: right;\">\n      <th></th>\n      <th>PassengerId</th>\n      <th>Survived</th>\n      <th>Pclass</th>\n      <th>Name</th>\n      <th>Sex</th>\n      <th>Age</th>\n      <th>SibSp</th>\n      <th>Parch</th>\n      <th>Ticket</th>\n      <th>Fare</th>\n      <th>Cabin</th>\n      <th>Embarked</th>\n    </tr>\n  </thead>\n  <tbody>\n    <tr>\n      <td>0</td>\n      <td>-1.729137</td>\n      <td>-0.788829</td>\n      <td>0.826913</td>\n      <td>Braund, Mr. Owen Harris</td>\n      <td>male</td>\n      <td>-0.530005</td>\n      <td>0.432550</td>\n      <td>-0.473408</td>\n      <td>A/5 21171</td>\n      <td>-0.502163</td>\n      <td>NaN</td>\n      <td>S</td>\n    </tr>\n    <tr>\n      <td>1</td>\n      <td>-1.725251</td>\n      <td>1.266279</td>\n      <td>-1.565228</td>\n      <td>Cumings, Mrs. John Bradley (Florence Briggs Th...</td>\n      <td>female</td>\n      <td>0.571430</td>\n      <td>0.432550</td>\n      <td>-0.473408</td>\n      <td>PC 17599</td>\n      <td>0.786404</td>\n      <td>C85</td>\n      <td>C</td>\n    </tr>\n    <tr>\n      <td>2</td>\n      <td>-1.721365</td>\n      <td>1.266279</td>\n      <td>0.826913</td>\n      <td>Heikkinen, Miss. Laina</td>\n      <td>female</td>\n      <td>-0.254646</td>\n      <td>-0.474279</td>\n      <td>-0.473408</td>\n      <td>STON/O2. 3101282</td>\n      <td>-0.488580</td>\n      <td>NaN</td>\n      <td>S</td>\n    </tr>\n    <tr>\n      <td>3</td>\n      <td>-1.717480</td>\n      <td>1.266279</td>\n      <td>-1.565228</td>\n      <td>Futrelle, Mrs. Jacques Heath (Lily May Peel)</td>\n      <td>female</td>\n      <td>0.364911</td>\n      <td>0.432550</td>\n      <td>-0.473408</td>\n      <td>113803</td>\n      <td>0.420494</td>\n      <td>C123</td>\n      <td>S</td>\n    </tr>\n    <tr>\n      <td>4</td>\n      <td>-1.713594</td>\n      <td>-0.788829</td>\n      <td>0.826913</td>\n      <td>Allen, Mr. William Henry</td>\n      <td>male</td>\n      <td>0.364911</td>\n      <td>-0.474279</td>\n      <td>-0.473408</td>\n      <td>373450</td>\n      <td>-0.486064</td>\n      <td>NaN</td>\n      <td>S</td>\n    </tr>\n    <tr>\n      <td>...</td>\n      <td>...</td>\n      <td>...</td>\n      <td>...</td>\n      <td>...</td>\n      <td>...</td>\n      <td>...</td>\n      <td>...</td>\n      <td>...</td>\n      <td>...</td>\n      <td>...</td>\n      <td>...</td>\n      <td>...</td>\n    </tr>\n    <tr>\n      <td>886</td>\n      <td>1.713594</td>\n      <td>-0.788829</td>\n      <td>-0.369158</td>\n      <td>Montvila, Rev. Juozas</td>\n      <td>male</td>\n      <td>-0.185807</td>\n      <td>-0.474279</td>\n      <td>-0.473408</td>\n      <td>211536</td>\n      <td>-0.386454</td>\n      <td>NaN</td>\n      <td>S</td>\n    </tr>\n    <tr>\n      <td>887</td>\n      <td>1.717480</td>\n      <td>1.266279</td>\n      <td>-1.565228</td>\n      <td>Graham, Miss. Margaret Edith</td>\n      <td>female</td>\n      <td>-0.736524</td>\n      <td>-0.474279</td>\n      <td>-0.473408</td>\n      <td>112053</td>\n      <td>-0.044356</td>\n      <td>B42</td>\n      <td>S</td>\n    </tr>\n    <tr>\n      <td>888</td>\n      <td>1.721365</td>\n      <td>-0.788829</td>\n      <td>0.826913</td>\n      <td>Johnston, Miss. Catherine Helen \"Carrie\"</td>\n      <td>female</td>\n      <td>NaN</td>\n      <td>0.432550</td>\n      <td>2.007806</td>\n      <td>W./C. 6607</td>\n      <td>-0.176164</td>\n      <td>NaN</td>\n      <td>S</td>\n    </tr>\n    <tr>\n      <td>889</td>\n      <td>1.725251</td>\n      <td>1.266279</td>\n      <td>-1.565228</td>\n      <td>Behr, Mr. Karl Howell</td>\n      <td>male</td>\n      <td>-0.254646</td>\n      <td>-0.474279</td>\n      <td>-0.473408</td>\n      <td>111369</td>\n      <td>-0.044356</td>\n      <td>C148</td>\n      <td>C</td>\n    </tr>\n    <tr>\n      <td>890</td>\n      <td>1.729137</td>\n      <td>-0.788829</td>\n      <td>0.826913</td>\n      <td>Dooley, Mr. Patrick</td>\n      <td>male</td>\n      <td>0.158392</td>\n      <td>-0.474279</td>\n      <td>-0.473408</td>\n      <td>370376</td>\n      <td>-0.492101</td>\n      <td>NaN</td>\n      <td>Q</td>\n    </tr>\n  </tbody>\n</table>\n<p>891 rows × 12 columns</p>\n</div>"
          },
          "metadata": {},
          "execution_count": 51
        }
      ]
    }
  ]
}